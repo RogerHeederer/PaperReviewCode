{
  "nbformat": 4,
  "nbformat_minor": 0,
  "metadata": {
    "colab": {
      "name": "S2S_with_NeuralNetwork_NIPS2014.ipynb",
      "provenance": [],
      "authorship_tag": "ABX9TyNZVPSgPSgsnSGeWhNn24T6",
      "include_colab_link": true
    },
    "kernelspec": {
      "name": "python3",
      "display_name": "Python 3"
    },
    "accelerator": "GPU"
  },
  "cells": [
    {
      "cell_type": "markdown",
      "metadata": {
        "id": "view-in-github",
        "colab_type": "text"
      },
      "source": [
        "<a href=\"https://colab.research.google.com/github/RogerHeederer/PaperReviewCode/blob/main/S2S_with_NeuralNetwork_NIPS2014.ipynb\" target=\"_parent\"><img src=\"https://colab.research.google.com/assets/colab-badge.svg\" alt=\"Open In Colab\"/></a>"
      ]
    },
    {
      "cell_type": "markdown",
      "metadata": {
        "id": "gPOyTdLT0flq"
      },
      "source": [
        "**Sequence to Sequence Learning with Neural Network (NIPS,2014)** 실습"
      ]
    },
    {
      "cell_type": "markdown",
      "metadata": {
        "id": "qvJ-638k0umo"
      },
      "source": [
        "Ref : https://github.com/ndb796/Deep-Learning-Paper-Review-and-Practice/blob/master/code_practices/Sequence_to_Sequence_with_LSTM_Tutorial.ipynb"
      ]
    },
    {
      "cell_type": "code",
      "metadata": {
        "id": "rB8DYUxP0K8l"
      },
      "source": [
        "#데이터 전처리 - spaCy 라이브러리 사용\n",
        "# : 문장의 토큰화 및 태깅 등의 전처리 기능을 제공\n",
        "\n",
        "%%capture\n",
        "!python -m spacy download en\n",
        "!python -m spacy download de"
      ],
      "execution_count": 1,
      "outputs": []
    },
    {
      "cell_type": "code",
      "metadata": {
        "id": "vH_K8YBx1Jhn"
      },
      "source": [
        "import spacy\n",
        "\n",
        "spacy_en = spacy.load('en') #영어 토큰화\n",
        "spacy_de = spacy.load('de') #독일어 토큰화"
      ],
      "execution_count": 2,
      "outputs": []
    },
    {
      "cell_type": "code",
      "metadata": {
        "colab": {
          "base_uri": "https://localhost:8080/"
        },
        "id": "aaGHrLd11WzT",
        "outputId": "1d0a0d48-7eb9-4d49-a96d-8cefc832a6b9"
      },
      "source": [
        "tokenized = spacy_en.tokenizer(\"I am a graduate student.\")\n",
        "\n",
        "for i, token in enumerate(tokenized):\n",
        "  print(f\"인덱스 {i}: {token.text}\")"
      ],
      "execution_count": 3,
      "outputs": [
        {
          "output_type": "stream",
          "text": [
            "인덱스 0: I\n",
            "인덱스 1: am\n",
            "인덱스 2: a\n",
            "인덱스 3: graduate\n",
            "인덱스 4: student\n",
            "인덱스 5: .\n"
          ],
          "name": "stdout"
        }
      ]
    },
    {
      "cell_type": "code",
      "metadata": {
        "id": "nTKb3If21u80"
      },
      "source": [
        "#독일어 토큰화 + 단어의 순서를 뒤집는 함수\n",
        "def tokenize_de(text):\n",
        "  return [token.text for token in spacy_de.tokenizer(text)][::-1]\n",
        "\n",
        "#영어 토큰화 함수 정의\n",
        "def tokenize_en(text):\n",
        "  return [token.text for token in spacy_en.tokenizer(text)]"
      ],
      "execution_count": 4,
      "outputs": []
    },
    {
      "cell_type": "code",
      "metadata": {
        "id": "zJSDU3KI5xUk"
      },
      "source": [
        "#필드 라이브러리를 이용해서 데이터 셋에 대한 구체적인 전처리를 명시\n",
        "# src: 독일어, tar: 영어\n",
        "from torchtext.data import Field, BucketIterator\n",
        "\n",
        "SRC = Field(tokenize=tokenize_de, init_token=\"<sos>\", eos_token=\"<eos>\", lower=True)\n",
        "TRG = Field(tokenize=tokenize_en, init_token=\"<sos>\", eos_token=\"<eos>\", lower=True)"
      ],
      "execution_count": 5,
      "outputs": []
    },
    {
      "cell_type": "code",
      "metadata": {
        "id": "pEzmtEkT6hig",
        "colab": {
          "base_uri": "https://localhost:8080/"
        },
        "outputId": "70280831-218a-4413-e833-0ffe0384f63b"
      },
      "source": [
        "from torchtext.datasets import Multi30k # 대표적 영어-독어 번역 데이터셋\n",
        "\n",
        "train_dataset, valid_dataset, test_dataset = Multi30k.splits(exts=(\".de\", \".en\"), fields=(SRC, TRG))"
      ],
      "execution_count": 6,
      "outputs": [
        {
          "output_type": "stream",
          "text": [
            "\rtraining.tar.gz:   0%|          | 0.00/1.21M [00:00<?, ?B/s]"
          ],
          "name": "stderr"
        },
        {
          "output_type": "stream",
          "text": [
            "downloading training.tar.gz\n"
          ],
          "name": "stdout"
        },
        {
          "output_type": "stream",
          "text": [
            "training.tar.gz: 100%|██████████| 1.21M/1.21M [00:00<00:00, 5.78MB/s]\n",
            "validation.tar.gz: 100%|██████████| 46.3k/46.3k [00:00<00:00, 1.37MB/s]"
          ],
          "name": "stderr"
        },
        {
          "output_type": "stream",
          "text": [
            "downloading validation.tar.gz\n",
            "downloading mmt_task1_test2016.tar.gz\n"
          ],
          "name": "stdout"
        },
        {
          "output_type": "stream",
          "text": [
            "\n",
            "mmt_task1_test2016.tar.gz: 100%|██████████| 66.2k/66.2k [00:00<00:00, 1.30MB/s]\n"
          ],
          "name": "stderr"
        }
      ]
    },
    {
      "cell_type": "code",
      "metadata": {
        "colab": {
          "base_uri": "https://localhost:8080/"
        },
        "id": "h-FM1JMf7YIU",
        "outputId": "bf2ce9ad-c475-4805-abfb-17416d02529c"
      },
      "source": [
        "print(f\"학습 데이터셋(training dataset) 크기: {len(train_dataset.examples)}개\")\n",
        "print(f\"평가 데이터셋(valid dataset) 크기: {len(valid_dataset.examples)}개\")\n",
        "print(f\"테스트 데이터셋(valid dataset) 크기: {len(test_dataset.examples)}개\")"
      ],
      "execution_count": 7,
      "outputs": [
        {
          "output_type": "stream",
          "text": [
            "학습 데이터셋(training dataset) 크기: 29000개\n",
            "평가 데이터셋(valid dataset) 크기: 1014개\n",
            "테스트 데이터셋(valid dataset) 크기: 1000개\n"
          ],
          "name": "stdout"
        }
      ]
    },
    {
      "cell_type": "code",
      "metadata": {
        "colab": {
          "base_uri": "https://localhost:8080/"
        },
        "id": "nCfVyomU7rc3",
        "outputId": "916a6fa6-11c0-4873-ade0-231621ab3215"
      },
      "source": [
        "#학습 데이터 중 하나를 샘플로 봐보자\n",
        "print(vars(train_dataset.examples[30])['src']) #src 독어\n",
        "print(vars(train_dataset.examples[30])['trg']) #trg 영어"
      ],
      "execution_count": 8,
      "outputs": [
        {
          "output_type": "stream",
          "text": [
            "['.', 'steht', 'urinal', 'einem', 'an', 'kaffee', 'tasse', 'einer', 'mit', 'der', ',', 'mann', 'ein']\n",
            "['a', 'man', 'standing', 'at', 'a', 'urinal', 'with', 'a', 'coffee', 'cup', '.']\n"
          ],
          "name": "stdout"
        }
      ]
    },
    {
      "cell_type": "code",
      "metadata": {
        "colab": {
          "base_uri": "https://localhost:8080/"
        },
        "id": "4Gq4_pkc-oN_",
        "outputId": "fbb73caa-290c-498e-9c6d-022e52267225"
      },
      "source": [
        "#필드 객체의 빌드 보캅 메서드를 이용해서 영어와 독어의 단어 사전을 생성\n",
        "#최소 2번 이상 빈도를 가진 단어만을 선책\n",
        "\n",
        "SRC.build_vocab(train_dataset, min_freq=2)\n",
        "TRG.build_vocab(train_dataset, min_freq=2)\n",
        "\n",
        "print(f\"SRC 보카 사이즈 len(SRC): {len(SRC.vocab)}\")\n",
        "print(f\"TRG 보카 사이즈 len(TRG): {len(TRG.vocab)}\")\n",
        "print(\"이게 각각의 원핫 인코딩 차원수가 됨\")"
      ],
      "execution_count": 9,
      "outputs": [
        {
          "output_type": "stream",
          "text": [
            "SRC 보카 사이즈 len(SRC): 7855\n",
            "TRG 보카 사이즈 len(TRG): 5893\n",
            "이게 각각의 원핫 인코딩 차원수가 됨\n"
          ],
          "name": "stdout"
        }
      ]
    },
    {
      "cell_type": "code",
      "metadata": {
        "colab": {
          "base_uri": "https://localhost:8080/"
        },
        "id": "OYFRNM5-_bWK",
        "outputId": "2cb09548-e270-401b-fe75-ccc35251f51f"
      },
      "source": [
        "#build_vocab으로 만든 요소들 살펴보기 .stoi\n",
        "print(TRG.vocab.stoi[\"abcbcbcd\"]) # 없는 단어:0\n",
        "print(TRG.vocab.stoi[TRG.pad_token]) # 패딩(padding): 1\n",
        "print(TRG.vocab.stoi[\"<sos>\"]) # <sos>: 2\n",
        "print(TRG.vocab.stoi[\"<eos>\"]) # <eos>: 3\n",
        "print(TRG.vocab.stoi[\"hello\"])\n",
        "print(TRG.vocab.stoi[\"world\"])"
      ],
      "execution_count": 10,
      "outputs": [
        {
          "output_type": "stream",
          "text": [
            "0\n",
            "1\n",
            "2\n",
            "3\n",
            "4112\n",
            "1752\n"
          ],
          "name": "stdout"
        }
      ]
    },
    {
      "cell_type": "markdown",
      "metadata": {
        "id": "X7mV0h3ZDZfb"
      },
      "source": [
        "한 문장에 포함된 단어가 연속적으로 LSTM에 입력된다. 그래서!\n",
        "\n",
        "하나의 배치에 포함된 문장들이 가지는 단어의 개수가 유사하면, max 길이를 과하게 잡을 필요가 없어 패딩 처리하는 연산을 아낄 수 있다.\n",
        "\n",
        "이를 위해 bucketiterator 사용한다\n",
        "\n",
        "배치크기는 128"
      ]
    },
    {
      "cell_type": "code",
      "metadata": {
        "id": "z_9Qlnp_DEJf"
      },
      "source": [
        "import torch\n",
        "device = torch.device('cuda' if torch.cuda.is_available() else 'cpu')\n",
        "BATCH_SIZE = 128\n",
        "\n",
        "#일반적인 데이터 로더의 iterator와 유사하게 사용 가능\n",
        "train_iterator, valid_iterator, test_iterator = BucketIterator.splits(\n",
        "    (train_dataset, valid_dataset, test_dataset),\n",
        "    batch_size=BATCH_SIZE,\n",
        "    device=device)"
      ],
      "execution_count": 11,
      "outputs": []
    },
    {
      "cell_type": "code",
      "metadata": {
        "colab": {
          "base_uri": "https://localhost:8080/"
        },
        "id": "vuhXoZCXFmgp",
        "outputId": "0b5f313b-be16-4481-c3f4-743731bd35d2"
      },
      "source": [
        "train_iterator"
      ],
      "execution_count": 12,
      "outputs": [
        {
          "output_type": "execute_result",
          "data": {
            "text/plain": [
              "<torchtext.data.iterator.BucketIterator at 0x7f534d1f95c0>"
            ]
          },
          "metadata": {
            "tags": []
          },
          "execution_count": 12
        }
      ]
    },
    {
      "cell_type": "code",
      "metadata": {
        "colab": {
          "base_uri": "https://localhost:8080/"
        },
        "id": "cy4dYKazFrEG",
        "outputId": "747df444-eea4-4dbf-8ede-23b34b8801e1"
      },
      "source": [
        "for i, batch in enumerate(train_iterator):\n",
        "  src = batch.src\n",
        "  trg = batch.trg\n",
        "  \n",
        "  print(f\"첫 번째 배치 크기: {src.shape}\")\n",
        "\n",
        "  for i in range(src.shape[0]): #현재 배치에 있는 하나의 문장에 포함된 정보 출력\n",
        "    print(f\"인덱스 {i}, src[{i}][0] = {src[i][0].item()}\")\n",
        "  #첫 번째 배치만 확인\n",
        "  break"
      ],
      "execution_count": 13,
      "outputs": [
        {
          "output_type": "stream",
          "text": [
            "첫 번째 배치 크기: torch.Size([29, 128])\n",
            "인덱스 0, src[0][0] = 2\n",
            "인덱스 1, src[1][0] = 4\n",
            "인덱스 2, src[2][0] = 179\n",
            "인덱스 3, src[3][0] = 7808\n",
            "인덱스 4, src[4][0] = 44\n",
            "인덱스 5, src[5][0] = 110\n",
            "인덱스 6, src[6][0] = 15\n",
            "인덱스 7, src[7][0] = 7\n",
            "인덱스 8, src[8][0] = 17\n",
            "인덱스 9, src[9][0] = 9\n",
            "인덱스 10, src[10][0] = 3074\n",
            "인덱스 11, src[11][0] = 11\n",
            "인덱스 12, src[12][0] = 241\n",
            "인덱스 13, src[13][0] = 3\n",
            "인덱스 14, src[14][0] = 1\n",
            "인덱스 15, src[15][0] = 1\n",
            "인덱스 16, src[16][0] = 1\n",
            "인덱스 17, src[17][0] = 1\n",
            "인덱스 18, src[18][0] = 1\n",
            "인덱스 19, src[19][0] = 1\n",
            "인덱스 20, src[20][0] = 1\n",
            "인덱스 21, src[21][0] = 1\n",
            "인덱스 22, src[22][0] = 1\n",
            "인덱스 23, src[23][0] = 1\n",
            "인덱스 24, src[24][0] = 1\n",
            "인덱스 25, src[25][0] = 1\n",
            "인덱스 26, src[26][0] = 1\n",
            "인덱스 27, src[27][0] = 1\n",
            "인덱스 28, src[28][0] = 1\n"
          ],
          "name": "stdout"
        }
      ]
    },
    {
      "cell_type": "code",
      "metadata": {
        "colab": {
          "base_uri": "https://localhost:8080/"
        },
        "id": "rgA4KAGRJc8H",
        "outputId": "a9ef85c3-7277-4b94-ebbe-3be47b62a840"
      },
      "source": [
        "src[28][127] #src[단어갯수][배치사이즈]"
      ],
      "execution_count": 15,
      "outputs": [
        {
          "output_type": "execute_result",
          "data": {
            "text/plain": [
              "tensor(1, device='cuda:0')"
            ]
          },
          "metadata": {
            "tags": []
          },
          "execution_count": 15
        }
      ]
    },
    {
      "cell_type": "markdown",
      "metadata": {
        "id": "Mu3N81lgI3Fm"
      },
      "source": [
        "**인코더 아키텍쳐**\n",
        "\n",
        "주어진 소스 문장을 context vector로 인코딩 함\n",
        "\n",
        "LSTM 레이어는 히든 스테이트와 셀 스테이트를 반환\n",
        "\n",
        "하이퍼 파라미터는 다음과 같다\n",
        "\n",
        "* input_dim: 하나의 단어에 대한 원핫 인코딩 차원\n",
        "* embed_dim: 임베딩(embedding) 차원\n",
        "* hidden_dim: 히든 상태(hidden state) 차원\n",
        "* n_layers: RNN 레이어의 개수\n",
        "* dropout_ratio: 드롭아웃(dropout) 비율"
      ]
    },
    {
      "cell_type": "code",
      "metadata": {
        "id": "IXCaYfHpG3Rn"
      },
      "source": [
        "import torch.nn as nn\n",
        "\n",
        "#인코더 아키텍쳐 정의\n",
        "class Encoder(nn.Module):\n",
        "  def __init__(self, input_dim, embed_dim, hidden_dim, n_layers, dropout_ratio):\n",
        "    super().__init__()\n",
        "\n",
        "    # 임베딩(embedding)은 원핫 인코딩을 특정 차원의 임베딩으로 매핑시켜 주는 레이어\n",
        "    self.embedding = nn.Embedding(input_dim, embed_dim)\n",
        "\n",
        "    # LSTM 레이어\n",
        "    self.hidden_dim = hidden_dim\n",
        "    self.n_layers = n_layers\n",
        "    self.rnn = nn.LSTM(embed_dim, hidden_dim, n_layers, dropout = dropout_ratio)\n",
        "    self.dropout = nn.Dropout(dropout_ratio)\n",
        "\n",
        "  # 소스 문장을 입력으로 받아 문맥 벡터로 변환\n",
        "  def forward(self, src): #src : [단어 개수, 배치크기] : 각 단어의 인덱스 정보\n",
        "    \n",
        "    # embedded: [단어개수, 배치크기, 임베딩 차원]\n",
        "    embedded = self.dropout(self.embedding(src))\n",
        "\n",
        "    # outputs: [단어 개수, 배치 크기, 히든 차원]: 현재 단어의 출력 정보\n",
        "    # hidden: [레이어 개수, 배치 크기, 히든 차원]: 현재까지의 모든 단어의 정보\n",
        "    # cell: [레이어 개수, 배치 크기, 히든 차원]: 현재까지의 모든 단어의 정보\n",
        "    outputs, (hidden, cell) = self.rnn(embedded)\n",
        "\n",
        "    return hidden, cell # 문맥 백터 반환"
      ],
      "execution_count": 16,
      "outputs": []
    },
    {
      "cell_type": "markdown",
      "metadata": {
        "id": "CXVQxSjisdbs"
      },
      "source": [
        "디코더 아키텍쳐\n",
        "\n",
        "주어진 문맥 벡터를 타겟 문장으로 디코딩\n",
        "\n",
        "LSTM은 hidden state와 cell state를 반환\n",
        "\n",
        "하이퍼 파라미터\n",
        "\n",
        "* input_dim: 하나의 단어에 대한 원핫 인코딩 차원\n",
        "* embed_dim: 임베딩(embedding) 차원\n",
        "* hidden_dim: 히든 상태(hidden state) 차원\n",
        "* n_layers: RNN 레이어의 개수\n",
        "* dropout_ratio: 드롭아웃(dropout) 비율"
      ]
    },
    {
      "cell_type": "code",
      "metadata": {
        "id": "4bFebIj3sbFG"
      },
      "source": [
        "#디코더 아키텍쳐 정의\n",
        "class Decoder(nn.Module):\n",
        "  def __init__(self, output_dim, embed_dim, hidden_dim, n_layers, dropout_ratio):\n",
        "    super().__init__()\n",
        "\n",
        "    #임베딩은 원핫 인코딩 을 특정 차원의 임베딩으로 매핑시키는 레이어\n",
        "    self.embedding = nn.Embedding(output_dim, embed_dim)\n",
        "\n",
        "    #LSTM 레이어\n",
        "    self.hidden_dim = hidden_dim\n",
        "    self.n_layers = n_layers\n",
        "    self.rnn = nn.LSTM(embed_dim, hidden_dim, n_layers, dropout=dropout_ratio)\n",
        "\n",
        "    #FullyConnected 레이어 (인코더와 구조적으로 다른 부분임)\n",
        "    self.output_dim = output_dim\n",
        "    self.fc_out = nn.Linear(hidden_dim, output_dim)\n",
        "    self.dropout = nn.Dropout(dropout_ratio)\n",
        "\n",
        "    #디코더는 현재까지 출력된 문장에 대한 정보를 입력으로 받아 타겟 문장 반환\n",
        "  def forward(self, input, hidden, cell):\n",
        "\n",
        "      # input:[배치 크기] / 디코딩 할 때는 단어를 1개씩 번역함. 그래서 단어 개수는 항상 1개이도록 구현\n",
        "      # hidden: [레이어 개수, 배치 크기, 히든 차원]\n",
        "      # cell = context -> [레이어 개수, 배치 크기, 히든 차원]\n",
        "      input = input.unsqueeze(0) # [1, 배치크기]\n",
        "      embedded = self.dropout(self.embedding(input)) #embedded: [단어개수, 배치크기, 임베딩 차원]\n",
        "      output, (hidden, cell) = self.rnn(embedded, (hidden, cell))\n",
        "      # output: [단어 개수 = 1, 배치 크기, 히든 차원]: 현재 단어의 출력 정보\n",
        "      # hidden: [레이어 개수, 배치 크기, 히든 차원]: 현재까지의 모든 단어의 정보\n",
        "      # cell: [레이어 개수, 배치 크기, 히든 차원]: 현재까지의 모든 단어의 정보\n",
        "\n",
        "      prediction = self.fc_out(output.squeeze(0))\n",
        "      \n",
        "      return prediction, hidden, cell # 현재 출력 단어, 현재까지의 모든 단어 정보, 현재까지의 모든 단어 정보"
      ],
      "execution_count": 37,
      "outputs": []
    },
    {
      "cell_type": "markdown",
      "metadata": {
        "id": "cZAwYCyu2-pq"
      },
      "source": [
        "Seq2Seq 아키텍쳐\n",
        "\n",
        "인코더 : 주어진 소스 문장을 문맥 벡터로 인코딩\n",
        "\n",
        "디코더 : 주어진 문맥 벡터를 타겟 문장으로 디코딩\n",
        "\n",
        "단, 디코더는 한 단어씩 넣어서 한 번씩 결과를 구한다.\n",
        "\n",
        "Teacher forcing : 디코더의 예측을 다음 입력으로 사용하지 않고, 실제 목표 출력(그라운 트룻)을 다음 입력으로 사용하는 기법\n",
        "\n"
      ]
    },
    {
      "cell_type": "code",
      "metadata": {
        "id": "OgG19S6cyioy"
      },
      "source": [
        "class Seq2Seq(nn.Module):\n",
        "    def __init__(self, encoder, decoder, device):\n",
        "        super().__init__()\n",
        "\n",
        "        self.encoder = encoder\n",
        "        self.decoder = decoder\n",
        "        self.device = device\n",
        "\n",
        "    # 학습할 때는 완전한 형태의 소스 문장, 타겟 문장, teacher_forcing_ratio를 넣기\n",
        "    def forward(self, src, trg, teacher_forcing_ratio=0.5):\n",
        "        # src: [단어 개수, 배치 크기]\n",
        "        # trg: [단어 개수, 배치 크기]\n",
        "        # 먼저 인코더를 거쳐 문맥 벡터(context vector)를 추출\n",
        "        hidden, cell = self.encoder(src)\n",
        "\n",
        "        # 디코더(decoder)의 최종 결과를 담을 텐서 객체 만들기\n",
        "        trg_len = trg.shape[0] # 단어 개수\n",
        "        batch_size = trg.shape[1] # 배치 크기\n",
        "        trg_vocab_size = self.decoder.output_dim # 출력 차원\n",
        "        outputs = torch.zeros(trg_len, batch_size, trg_vocab_size).to(self.device)\n",
        "\n",
        "        # 첫 번째 입력은 항상 <sos> 토큰\n",
        "        input = trg[0, :]\n",
        "\n",
        "        # 타겟 단어의 개수만큼 반복하여 디코더에 포워딩(forwarding)\n",
        "        for t in range(1, trg_len):\n",
        "            output, hidden, cell = self.decoder(input, hidden, cell)\n",
        "\n",
        "            outputs[t] = output # FC를 거쳐서 나온 현재의 출력 단어 정보\n",
        "            top1 = output.argmax(1) # 가장 확률이 높은 단어의 인덱스 추출\n",
        "\n",
        "            # teacher_forcing_ratio: 학습할 때 실제 목표 출력(ground-truth)을 사용하는 비율\n",
        "            teacher_force = random.random() < teacher_forcing_ratio\n",
        "            input = trg[t] if teacher_force else top1 # 현재의 출력 결과를 다음 입력에서 넣기\n",
        "        \n",
        "        return outputs"
      ],
      "execution_count": 28,
      "outputs": []
    },
    {
      "cell_type": "code",
      "metadata": {
        "id": "JrEEHvtsJumy"
      },
      "source": [
        "# 학습 하이퍼파라미터 설정 및 모델 초기화\n",
        "INPUT_DIM = len(SRC.vocab)\n",
        "OUTPUT_DIM = len(TRG.vocab)\n",
        "ENCODER_EMBED_DIM = 256\n",
        "DECODER_EMBED_DIM = 256\n",
        "HIDDEN_DIM = 512\n",
        "N_LAYERS = 2\n",
        "ENC_DROPOUT_RATIO = 0.5\n",
        "DEC_DROPOUT_RATIO = 0.5"
      ],
      "execution_count": 29,
      "outputs": []
    },
    {
      "cell_type": "code",
      "metadata": {
        "id": "o3WjerBuKYdS"
      },
      "source": [
        "# 인코더(encoder)와 디코더(decoder) 객체 선언\n",
        "enc = Encoder(INPUT_DIM, ENCODER_EMBED_DIM, HIDDEN_DIM, N_LAYERS, ENC_DROPOUT_RATIO)\n",
        "dec = Decoder(OUTPUT_DIM, DECODER_EMBED_DIM, HIDDEN_DIM, N_LAYERS, DEC_DROPOUT_RATIO)\n",
        "\n",
        "# Seq2Seq 객체 선언\n",
        "model = Seq2Seq(enc, dec, device).to(device)"
      ],
      "execution_count": 30,
      "outputs": []
    },
    {
      "cell_type": "code",
      "metadata": {
        "colab": {
          "base_uri": "https://localhost:8080/"
        },
        "id": "Qc8zIk3RKv8x",
        "outputId": "e1b69c8e-49c9-4906-9b25-9e001b93493f"
      },
      "source": [
        "def init_weights(m):\n",
        "    for name, param in m.named_parameters():\n",
        "        nn.init.uniform_(param.data, -0.08, 0.08)\n",
        "        \n",
        "model.apply(init_weights)"
      ],
      "execution_count": 31,
      "outputs": [
        {
          "output_type": "execute_result",
          "data": {
            "text/plain": [
              "Seq2Seq(\n",
              "  (encoder): Encoder(\n",
              "    (embedding): Embedding(7855, 256)\n",
              "    (rnn): LSTM(256, 512, num_layers=2, dropout=0.5)\n",
              "    (dropout): Dropout(p=0.5, inplace=False)\n",
              "  )\n",
              "  (decoder): Decoder(\n",
              "    (embedding): Embedding(5893, 256)\n",
              "    (rnn): LSTM(256, 512, num_layers=2, dropout=0.5)\n",
              "    (fc_out): Linear(in_features=512, out_features=5893, bias=True)\n",
              "    (dropout): Dropout(p=0.5, inplace=False)\n",
              "  )\n",
              ")"
            ]
          },
          "metadata": {
            "tags": []
          },
          "execution_count": 31
        }
      ]
    },
    {
      "cell_type": "markdown",
      "metadata": {
        "id": "7C8jMjzhLwyb"
      },
      "source": [
        "학습 및 평가"
      ]
    },
    {
      "cell_type": "code",
      "metadata": {
        "id": "mIEA2-lSLyE7"
      },
      "source": [
        "import torch.optim as optim\n",
        "\n",
        "# Adam optimizer로 학습 최적화\n",
        "optimizer = optim.Adam(model.parameters())\n",
        "\n",
        "# 뒷 부분의 패딩(padding)에 대해서는 값 무시\n",
        "TRG_PAD_IDX = TRG.vocab.stoi[TRG.pad_token]\n",
        "criterion = nn.CrossEntropyLoss(ignore_index=TRG_PAD_IDX)"
      ],
      "execution_count": 32,
      "outputs": []
    },
    {
      "cell_type": "code",
      "metadata": {
        "id": "hJsYlvXNLhGb"
      },
      "source": [
        "# 모델 학습(train) 함수\n",
        "def train(model, iterator, optimizer, criterion, clip):\n",
        "    model.train() # 학습 모드\n",
        "    epoch_loss = 0\n",
        "    \n",
        "    # 전체 학습 데이터를 확인하며\n",
        "    for i, batch in enumerate(iterator):\n",
        "        src = batch.src\n",
        "        trg = batch.trg\n",
        "        \n",
        "        optimizer.zero_grad()\n",
        "\n",
        "        output = model(src, trg)\n",
        "        # output: [출력 단어 개수, 배치 크기, 출력 차원]\n",
        "        output_dim = output.shape[-1]\n",
        "        \n",
        "        # 출력 단어의 인덱스 0은 사용하지 않음\n",
        "        output = output[1:].view(-1, output_dim)\n",
        "        # output = [(출력 단어의 개수 - 1) * batch size, output dim]\n",
        "        trg = trg[1:].view(-1)\n",
        "        # trg = [(타겟 단어의 개수 - 1) * batch size]\n",
        "        \n",
        "        # 모델의 출력 결과와 타겟 문장을 비교하여 손실 계산\n",
        "        loss = criterion(output, trg)\n",
        "        loss.backward() # 기울기(gradient) 계산\n",
        "        \n",
        "        # 기울기(gradient) clipping 진행\n",
        "        torch.nn.utils.clip_grad_norm_(model.parameters(), clip)\n",
        "        \n",
        "        # 파라미터 업데이트\n",
        "        optimizer.step()\n",
        "        \n",
        "        # 전체 손실 값 계산\n",
        "        epoch_loss += loss.item()\n",
        "        \n",
        "    return epoch_loss / len(iterator)"
      ],
      "execution_count": 33,
      "outputs": []
    },
    {
      "cell_type": "code",
      "metadata": {
        "id": "ffBOViKpNxsj"
      },
      "source": [
        "# 모델 평가(evaluate) 함수\n",
        "def evaluate(model, iterator, criterion):\n",
        "    model.eval() # 평가 모드\n",
        "    epoch_loss = 0\n",
        "    \n",
        "    with torch.no_grad():\n",
        "        # 전체 평가 데이터를 확인하며\n",
        "        for i, batch in enumerate(iterator):\n",
        "            src = batch.src\n",
        "            trg = batch.trg\n",
        "\n",
        "            # 평가할 때 teacher forcing는 사용하지 않음\n",
        "            output = model(src, trg, 0)\n",
        "            # output: [출력 단어 개수, 배치 크기, 출력 차원]\n",
        "            output_dim = output.shape[-1]\n",
        "            \n",
        "            # 출력 단어의 인덱스 0은 사용하지 않음\n",
        "            output = output[1:].view(-1, output_dim)\n",
        "            # output = [(출력 단어의 개수 - 1) * batch size, output dim]\n",
        "            trg = trg[1:].view(-1)\n",
        "            # trg = [(타겟 단어의 개수 - 1) * batch size]\n",
        "\n",
        "            # 모델의 출력 결과와 타겟 문장을 비교하여 손실 계산\n",
        "            loss = criterion(output, trg)\n",
        "\n",
        "            # 전체 손실 값 계산\n",
        "            epoch_loss += loss.item()\n",
        "        \n",
        "    return epoch_loss / len(iterator)"
      ],
      "execution_count": 34,
      "outputs": []
    },
    {
      "cell_type": "code",
      "metadata": {
        "id": "ucbCIMJkPDWz"
      },
      "source": [
        "def epoch_time(start_time, end_time):\n",
        "    elapsed_time = end_time - start_time\n",
        "    elapsed_mins = int(elapsed_time / 60)\n",
        "    elapsed_secs = int(elapsed_time - (elapsed_mins * 60))\n",
        "    return elapsed_mins, elapsed_secs"
      ],
      "execution_count": 35,
      "outputs": []
    },
    {
      "cell_type": "code",
      "metadata": {
        "colab": {
          "base_uri": "https://localhost:8080/"
        },
        "id": "GzDmgIVFPPmS",
        "outputId": "220e3926-8958-4cfa-bb82-07a66ea86594"
      },
      "source": [
        "import time\n",
        "import math\n",
        "import random\n",
        "\n",
        "N_EPOCHS = 20\n",
        "CLIP = 1\n",
        "best_valid_loss = float('inf')\n",
        "\n",
        "for epoch in range(N_EPOCHS):\n",
        "    start_time = time.time() # 시작 시간 기록\n",
        "\n",
        "    train_loss = train(model, train_iterator, optimizer, criterion, CLIP)\n",
        "    valid_loss = evaluate(model, valid_iterator, criterion)\n",
        "\n",
        "    end_time = time.time() # 종료 시간 기록\n",
        "    epoch_mins, epoch_secs = epoch_time(start_time, end_time)\n",
        "\n",
        "    if valid_loss < best_valid_loss:\n",
        "        best_valid_loss = valid_loss\n",
        "        torch.save(model.state_dict(), 'seq2seq.pt')\n",
        "\n",
        "    print(f'Epoch: {epoch + 1:02} | Time: {epoch_mins}m {epoch_secs}s')\n",
        "    print(f'\\tTrain Loss: {train_loss:.3f} | Train PPL: {math.exp(train_loss):.3f}')\n",
        "    print(f'\\tValidation Loss: {valid_loss:.3f} | Validation PPL: {math.exp(valid_loss):.3f}')"
      ],
      "execution_count": 38,
      "outputs": [
        {
          "output_type": "stream",
          "text": [
            "Epoch: 01 | Time: 0m 24s\n",
            "\tTrain Loss: 4.451 | Train PPL: 85.712\n",
            "\tValidation Loss: 4.774 | Validation PPL: 118.406\n",
            "Epoch: 02 | Time: 0m 24s\n",
            "\tTrain Loss: 4.155 | Train PPL: 63.758\n",
            "\tValidation Loss: 4.598 | Validation PPL: 99.304\n",
            "Epoch: 03 | Time: 0m 24s\n",
            "\tTrain Loss: 3.958 | Train PPL: 52.369\n",
            "\tValidation Loss: 4.375 | Validation PPL: 79.463\n",
            "Epoch: 04 | Time: 0m 25s\n",
            "\tTrain Loss: 3.769 | Train PPL: 43.347\n",
            "\tValidation Loss: 4.324 | Validation PPL: 75.497\n",
            "Epoch: 05 | Time: 0m 24s\n",
            "\tTrain Loss: 3.623 | Train PPL: 37.440\n",
            "\tValidation Loss: 4.186 | Validation PPL: 65.791\n",
            "Epoch: 06 | Time: 0m 24s\n",
            "\tTrain Loss: 3.436 | Train PPL: 31.073\n",
            "\tValidation Loss: 4.107 | Validation PPL: 60.787\n",
            "Epoch: 07 | Time: 0m 24s\n",
            "\tTrain Loss: 3.309 | Train PPL: 27.351\n",
            "\tValidation Loss: 3.999 | Validation PPL: 54.554\n",
            "Epoch: 08 | Time: 0m 24s\n",
            "\tTrain Loss: 3.158 | Train PPL: 23.525\n",
            "\tValidation Loss: 3.964 | Validation PPL: 52.684\n",
            "Epoch: 09 | Time: 0m 24s\n",
            "\tTrain Loss: 3.054 | Train PPL: 21.198\n",
            "\tValidation Loss: 3.823 | Validation PPL: 45.736\n",
            "Epoch: 10 | Time: 0m 24s\n",
            "\tTrain Loss: 2.942 | Train PPL: 18.960\n",
            "\tValidation Loss: 3.766 | Validation PPL: 43.224\n",
            "Epoch: 11 | Time: 0m 24s\n",
            "\tTrain Loss: 2.832 | Train PPL: 16.975\n",
            "\tValidation Loss: 3.759 | Validation PPL: 42.899\n",
            "Epoch: 12 | Time: 0m 24s\n",
            "\tTrain Loss: 2.727 | Train PPL: 15.289\n",
            "\tValidation Loss: 3.687 | Validation PPL: 39.912\n",
            "Epoch: 13 | Time: 0m 24s\n",
            "\tTrain Loss: 2.665 | Train PPL: 14.369\n",
            "\tValidation Loss: 3.682 | Validation PPL: 39.709\n",
            "Epoch: 14 | Time: 0m 24s\n",
            "\tTrain Loss: 2.583 | Train PPL: 13.237\n",
            "\tValidation Loss: 3.697 | Validation PPL: 40.306\n",
            "Epoch: 15 | Time: 0m 24s\n",
            "\tTrain Loss: 2.494 | Train PPL: 12.110\n",
            "\tValidation Loss: 3.672 | Validation PPL: 39.346\n",
            "Epoch: 16 | Time: 0m 24s\n",
            "\tTrain Loss: 2.424 | Train PPL: 11.287\n",
            "\tValidation Loss: 3.719 | Validation PPL: 41.228\n",
            "Epoch: 17 | Time: 0m 24s\n",
            "\tTrain Loss: 2.335 | Train PPL: 10.333\n",
            "\tValidation Loss: 3.656 | Validation PPL: 38.688\n",
            "Epoch: 18 | Time: 0m 24s\n",
            "\tTrain Loss: 2.259 | Train PPL: 9.576\n",
            "\tValidation Loss: 3.643 | Validation PPL: 38.211\n",
            "Epoch: 19 | Time: 0m 25s\n",
            "\tTrain Loss: 2.177 | Train PPL: 8.817\n",
            "\tValidation Loss: 3.724 | Validation PPL: 41.419\n",
            "Epoch: 20 | Time: 0m 24s\n",
            "\tTrain Loss: 2.123 | Train PPL: 8.356\n",
            "\tValidation Loss: 3.693 | Validation PPL: 40.183\n"
          ],
          "name": "stdout"
        }
      ]
    },
    {
      "cell_type": "code",
      "metadata": {
        "id": "_uj_5PeuQgLI"
      },
      "source": [
        "#학습된 모델 저장\n",
        "from google.colab import files\n",
        "files.download('seq2seq.pt')"
      ],
      "execution_count": null,
      "outputs": []
    },
    {
      "cell_type": "code",
      "metadata": {
        "colab": {
          "base_uri": "https://localhost:8080/"
        },
        "id": "OIqq3thyXgKB",
        "outputId": "f2e8bb27-b6a0-4ff9-8e6c-1e0736662907"
      },
      "source": [
        "#모델 최종 테스트 결과 확인\n",
        "model.load_state_dict(torch.load('seq2seq.pt'))\n",
        "test_loss = evaluate(model, test_iterator, criterion)\n",
        "print(f'Test Loss: {test_loss:.3f} | Test PPL: {math.exp(test_loss):.3f}')"
      ],
      "execution_count": 39,
      "outputs": [
        {
          "output_type": "stream",
          "text": [
            "Test Loss: 3.620 | Test PPL: 37.349\n"
          ],
          "name": "stdout"
        }
      ]
    },
    {
      "cell_type": "markdown",
      "metadata": {
        "id": "FMUAltZwX1BG"
      },
      "source": [
        "나의 데이터로 모델 사용해보기"
      ]
    },
    {
      "cell_type": "code",
      "metadata": {
        "id": "q7EnIvoYX2iN"
      },
      "source": [
        "# 번역(translation) 함수\n",
        "def translate_sentence(sentence, src_field, trg_field, model, device, max_len=50):\n",
        "    model.eval() # 평가 모드\n",
        "\n",
        "    if isinstance(sentence, str):\n",
        "        nlp = spacy.load('de')\n",
        "        tokens = [token.text.lower() for token in nlp(sentence)]\n",
        "    else:\n",
        "        tokens = [token.lower() for token in sentence]\n",
        "\n",
        "    # 처음에 <sos> 토큰, 마지막에 <eos> 토큰 붙이기\n",
        "    tokens = [src_field.init_token] + tokens + [src_field.eos_token]\n",
        "    print(f\"전체 소스 토큰: {tokens}\")\n",
        "\n",
        "    src_indexes = [src_field.vocab.stoi[token] for token in tokens]\n",
        "    print(f\"소스 문장 인덱스: {src_indexes}\")\n",
        "\n",
        "    src_tensor = torch.LongTensor(src_indexes).unsqueeze(1).to(device)\n",
        "\n",
        "    # 인코더(endocer)에 소스 문장을 넣어 문맥 벡터(context vector) 계산\n",
        "    with torch.no_grad():\n",
        "        hidden, cell = model.encoder(src_tensor)\n",
        "\n",
        "    # 처음에는 <sos> 토큰 하나만 가지고 있도록 하기\n",
        "    trg_indexes = [trg_field.vocab.stoi[trg_field.init_token]]\n",
        "\n",
        "    for i in range(max_len):\n",
        "        # 이전에 출력한 단어가 현재 단어로 입력될 수 있도록\n",
        "        trg_tensor = torch.LongTensor([trg_indexes[-1]]).to(device)\n",
        "\n",
        "        with torch.no_grad():\n",
        "            output, hidden, cell = model.decoder(trg_tensor, hidden, cell)\n",
        "\n",
        "        pred_token = output.argmax(1).item()\n",
        "        trg_indexes.append(pred_token) # 출력 문장에 더하기\n",
        "\n",
        "        # <eos>를 만나는 순간 끝\n",
        "        if pred_token == trg_field.vocab.stoi[trg_field.eos_token]:\n",
        "            break\n",
        "\n",
        "    # 각 출력 단어 인덱스를 실제 단어로 변환\n",
        "    trg_tokens = [trg_field.vocab.itos[i] for i in trg_indexes]\n",
        "\n",
        "    # 첫 번째 <sos>는 제외하고 출력 문장 반환\n",
        "    return trg_tokens[1:]"
      ],
      "execution_count": 43,
      "outputs": []
    },
    {
      "cell_type": "code",
      "metadata": {
        "colab": {
          "base_uri": "https://localhost:8080/"
        },
        "id": "So3JgO5aZfAz",
        "outputId": "360bd8a1-da58-40cf-f51f-b6d158ac34c9"
      },
      "source": [
        "example_idx = 11\n",
        "\n",
        "src = vars(test_dataset.examples[example_idx])['src']\n",
        "trg = vars(test_dataset.examples[example_idx])['trg']\n",
        "\n",
        "print(f'소스 문장: {src}')\n",
        "print(f'타겟 문장: {trg}')\n",
        "print(\"모델 출력 결과:\", \" \".join(translate_sentence(src, SRC, TRG, model, device)))"
      ],
      "execution_count": 45,
      "outputs": [
        {
          "output_type": "stream",
          "text": [
            "소스 문장: ['.', 'sind', 'luft', 'der', 'in', 'noch', 'immer', 'hände', 'seine', 'während', ',', 'trifft', 'nicht', 'ball', 'den', 'mann', 'ein', 'wobei', ',', 'spielen', 'volleyball', 'die', ',', 'männer']\n",
            "타겟 문장: ['men', 'playing', 'volleyball', ',', 'with', 'one', 'player', 'missing', 'the', 'ball', 'but', 'hands', 'still', 'in', 'the', 'air', '.']\n",
            "전체 소스 토큰: ['<sos>', '.', 'sind', 'luft', 'der', 'in', 'noch', 'immer', 'hände', 'seine', 'während', ',', 'trifft', 'nicht', 'ball', 'den', 'mann', 'ein', 'wobei', ',', 'spielen', 'volleyball', 'die', ',', 'männer', '<eos>']\n",
            "소스 문장 인덱스: [2, 4, 84, 90, 15, 7, 1405, 6439, 363, 139, 35, 9, 2035, 482, 92, 33, 13, 5, 601, 9, 57, 669, 17, 9, 30, 3]\n",
            "모델 출력 결과: two men are playing , one is the the the the the the air , his hands in the air . <eos>\n"
          ],
          "name": "stdout"
        }
      ]
    },
    {
      "cell_type": "code",
      "metadata": {
        "colab": {
          "base_uri": "https://localhost:8080/"
        },
        "id": "Xd8fJFBPccP0",
        "outputId": "a14ebe5f-5b01-4aa6-af99-3f76b338fab1"
      },
      "source": [
        "src = tokenize_de(\"haben Sie einen guten Tag\") #have a good day\n",
        "\n",
        "print(f'소스 문장: {src}')\n",
        "print(\"모델 출력 결과:\", \" \".join(translate_sentence(src, SRC, TRG, model, device)))"
      ],
      "execution_count": 47,
      "outputs": [
        {
          "output_type": "stream",
          "text": [
            "소스 문장: ['Tag', 'guten', 'einen', 'Sie', 'haben']\n",
            "전체 소스 토큰: ['<sos>', 'tag', 'guten', 'einen', 'sie', 'haben', '<eos>']\n",
            "소스 문장 인덱스: [2, 200, 3799, 19, 99, 307, 3]\n",
            "모델 출력 결과: <unk> enjoy a day day . <eos>\n"
          ],
          "name": "stdout"
        }
      ]
    },
    {
      "cell_type": "code",
      "metadata": {
        "id": "Cbs74o95dPbU"
      },
      "source": [
        ""
      ],
      "execution_count": null,
      "outputs": []
    }
  ]
}